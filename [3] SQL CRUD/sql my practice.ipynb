{
 "cells": [
  {
   "cell_type": "code",
   "execution_count": 1,
   "metadata": {},
   "outputs": [
    {
     "name": "stdout",
     "output_type": "stream",
     "text": [
      "Requirement already satisfied: ipython-sql in c:\\users\\gigiya\\desktop\\dpho1\\venv\\lib\\site-packages (0.5.0)\n",
      "Requirement already satisfied: prettytable in c:\\users\\gigiya\\desktop\\dpho1\\venv\\lib\\site-packages (from ipython-sql) (3.10.0)\n",
      "Requirement already satisfied: ipython in c:\\users\\gigiya\\desktop\\dpho1\\venv\\lib\\site-packages (from ipython-sql) (8.24.0)\n",
      "Requirement already satisfied: sqlalchemy>=2.0 in c:\\users\\gigiya\\desktop\\dpho1\\venv\\lib\\site-packages (from ipython-sql) (2.0.30)\n",
      "Requirement already satisfied: sqlparse in c:\\users\\gigiya\\desktop\\dpho1\\venv\\lib\\site-packages (from ipython-sql) (0.5.0)\n",
      "Requirement already satisfied: six in c:\\users\\gigiya\\desktop\\dpho1\\venv\\lib\\site-packages (from ipython-sql) (1.16.0)\n",
      "Requirement already satisfied: ipython-genutils in c:\\users\\gigiya\\desktop\\dpho1\\venv\\lib\\site-packages (from ipython-sql) (0.2.0)\n",
      "Requirement already satisfied: typing-extensions>=4.6.0 in c:\\users\\gigiya\\desktop\\dpho1\\venv\\lib\\site-packages (from sqlalchemy>=2.0->ipython-sql) (4.12.0)\n",
      "Requirement already satisfied: greenlet!=0.4.17 in c:\\users\\gigiya\\desktop\\dpho1\\venv\\lib\\site-packages (from sqlalchemy>=2.0->ipython-sql) (3.0.3)\n",
      "Requirement already satisfied: decorator in c:\\users\\gigiya\\desktop\\dpho1\\venv\\lib\\site-packages (from ipython->ipython-sql) (5.1.1)\n",
      "Requirement already satisfied: jedi>=0.16 in c:\\users\\gigiya\\desktop\\dpho1\\venv\\lib\\site-packages (from ipython->ipython-sql) (0.19.1)\n",
      "Requirement already satisfied: matplotlib-inline in c:\\users\\gigiya\\desktop\\dpho1\\venv\\lib\\site-packages (from ipython->ipython-sql) (0.1.7)\n",
      "Requirement already satisfied: prompt-toolkit<3.1.0,>=3.0.41 in c:\\users\\gigiya\\desktop\\dpho1\\venv\\lib\\site-packages (from ipython->ipython-sql) (3.0.44)\n",
      "Requirement already satisfied: pygments>=2.4.0 in c:\\users\\gigiya\\desktop\\dpho1\\venv\\lib\\site-packages (from ipython->ipython-sql) (2.18.0)\n",
      "Requirement already satisfied: stack-data in c:\\users\\gigiya\\desktop\\dpho1\\venv\\lib\\site-packages (from ipython->ipython-sql) (0.6.3)\n",
      "Requirement already satisfied: traitlets>=5.13.0 in c:\\users\\gigiya\\desktop\\dpho1\\venv\\lib\\site-packages (from ipython->ipython-sql) (5.14.3)\n",
      "Requirement already satisfied: colorama in c:\\users\\gigiya\\desktop\\dpho1\\venv\\lib\\site-packages (from ipython->ipython-sql) (0.4.6)\n",
      "Requirement already satisfied: wcwidth in c:\\users\\gigiya\\desktop\\dpho1\\venv\\lib\\site-packages (from prettytable->ipython-sql) (0.2.13)\n",
      "Requirement already satisfied: parso<0.9.0,>=0.8.3 in c:\\users\\gigiya\\desktop\\dpho1\\venv\\lib\\site-packages (from jedi>=0.16->ipython->ipython-sql) (0.8.4)\n",
      "Requirement already satisfied: executing>=1.2.0 in c:\\users\\gigiya\\desktop\\dpho1\\venv\\lib\\site-packages (from stack-data->ipython->ipython-sql) (2.0.1)\n",
      "Requirement already satisfied: asttokens>=2.1.0 in c:\\users\\gigiya\\desktop\\dpho1\\venv\\lib\\site-packages (from stack-data->ipython->ipython-sql) (2.4.1)\n",
      "Requirement already satisfied: pure-eval in c:\\users\\gigiya\\desktop\\dpho1\\venv\\lib\\site-packages (from stack-data->ipython->ipython-sql) (0.2.2)\n",
      "Note: you may need to restart the kernel to use updated packages.\n"
     ]
    }
   ],
   "source": [
    "%pip install ipython-sql"
   ]
  },
  {
   "cell_type": "code",
   "execution_count": 2,
   "metadata": {},
   "outputs": [],
   "source": [
    "%load_ext sql"
   ]
  },
  {
   "cell_type": "code",
   "execution_count": 3,
   "metadata": {},
   "outputs": [],
   "source": [
    "\n",
    "%sql sqlite:///sample-database.db"
   ]
  },
  {
   "cell_type": "code",
   "execution_count": null,
   "metadata": {},
   "outputs": [],
   "source": []
  },
  {
   "cell_type": "code",
   "execution_count": 4,
   "metadata": {},
   "outputs": [
    {
     "name": "stdout",
     "output_type": "stream",
     "text": [
      " * sqlite:///sample-database.db\n",
      "Done.\n"
     ]
    },
    {
     "data": {
      "text/plain": [
       "[]"
      ]
     },
     "execution_count": 4,
     "metadata": {},
     "output_type": "execute_result"
    }
   ],
   "source": [
    "\n",
    "%%sql\n",
    "CREATE TABLE IF NOT EXISTS Employee (\n",
    "    FirstName Varchar (50) NOT NULL,\n",
    "    LastName varchar (50) NOT NULL,\n",
    "    EmployeeID INT PRIMARY KEY\n",
    ");\n",
    "\n"
   ]
  },
  {
   "cell_type": "code",
   "execution_count": 5,
   "metadata": {},
   "outputs": [
    {
     "name": "stdout",
     "output_type": "stream",
     "text": [
      " * sqlite:///sample-database.db\n",
      "Done.\n"
     ]
    },
    {
     "data": {
      "text/html": [
       "<table>\n",
       "    <thead>\n",
       "        <tr>\n",
       "            <th>cid</th>\n",
       "            <th>name</th>\n",
       "            <th>type</th>\n",
       "            <th>notnull</th>\n",
       "            <th>dflt_value</th>\n",
       "            <th>pk</th>\n",
       "        </tr>\n",
       "    </thead>\n",
       "    <tbody>\n",
       "        <tr>\n",
       "            <td>0</td>\n",
       "            <td>FirstName</td>\n",
       "            <td>Varchar (50)</td>\n",
       "            <td>1</td>\n",
       "            <td>None</td>\n",
       "            <td>0</td>\n",
       "        </tr>\n",
       "        <tr>\n",
       "            <td>1</td>\n",
       "            <td>LastName</td>\n",
       "            <td>varchar (50)</td>\n",
       "            <td>1</td>\n",
       "            <td>None</td>\n",
       "            <td>0</td>\n",
       "        </tr>\n",
       "        <tr>\n",
       "            <td>2</td>\n",
       "            <td>EmployeeID</td>\n",
       "            <td>INT</td>\n",
       "            <td>0</td>\n",
       "            <td>None</td>\n",
       "            <td>1</td>\n",
       "        </tr>\n",
       "    </tbody>\n",
       "</table>"
      ],
      "text/plain": [
       "[(0, 'FirstName', 'Varchar (50)', 1, None, 0),\n",
       " (1, 'LastName', 'varchar (50)', 1, None, 0),\n",
       " (2, 'EmployeeID', 'INT', 0, None, 1)]"
      ]
     },
     "execution_count": 5,
     "metadata": {},
     "output_type": "execute_result"
    }
   ],
   "source": [
    "# Shows structure of table\n",
    "%sql PRAGMA table_info ('Employee');"
   ]
  },
  {
   "cell_type": "code",
   "execution_count": 6,
   "metadata": {},
   "outputs": [
    {
     "name": "stdout",
     "output_type": "stream",
     "text": [
      " * sqlite:///sample-database.db\n",
      "Done.\n"
     ]
    },
    {
     "data": {
      "text/plain": [
       "[]"
      ]
     },
     "execution_count": 6,
     "metadata": {},
     "output_type": "execute_result"
    }
   ],
   "source": [
    "%%sql\n",
    "CREATE TABLE IF NOT EXISTS CLassRoaster (\n",
    "    FirstName Varchar (50) NOT NULL,\n",
    "    LastName varchar (50) NOT NULL,\n",
    "    StudentID INT PRIMARY KEY\n",
    ");\n"
   ]
  },
  {
   "cell_type": "code",
   "execution_count": 7,
   "metadata": {},
   "outputs": [
    {
     "name": "stdout",
     "output_type": "stream",
     "text": [
      " * sqlite:///sample-database.db\n",
      "Done.\n"
     ]
    },
    {
     "data": {
      "text/html": [
       "<table>\n",
       "    <thead>\n",
       "        <tr>\n",
       "            <th>cid</th>\n",
       "            <th>name</th>\n",
       "            <th>type</th>\n",
       "            <th>notnull</th>\n",
       "            <th>dflt_value</th>\n",
       "            <th>pk</th>\n",
       "        </tr>\n",
       "    </thead>\n",
       "    <tbody>\n",
       "        <tr>\n",
       "            <td>0</td>\n",
       "            <td>FirstName</td>\n",
       "            <td>Varchar (50)</td>\n",
       "            <td>1</td>\n",
       "            <td>None</td>\n",
       "            <td>0</td>\n",
       "        </tr>\n",
       "        <tr>\n",
       "            <td>1</td>\n",
       "            <td>LastName</td>\n",
       "            <td>varchar (50)</td>\n",
       "            <td>1</td>\n",
       "            <td>None</td>\n",
       "            <td>0</td>\n",
       "        </tr>\n",
       "        <tr>\n",
       "            <td>2</td>\n",
       "            <td>EmployeeID</td>\n",
       "            <td>INT</td>\n",
       "            <td>0</td>\n",
       "            <td>None</td>\n",
       "            <td>1</td>\n",
       "        </tr>\n",
       "        <tr>\n",
       "            <td>3</td>\n",
       "            <td>Scores</td>\n",
       "            <td>INT</td>\n",
       "            <td>0</td>\n",
       "            <td>None</td>\n",
       "            <td>0</td>\n",
       "        </tr>\n",
       "    </tbody>\n",
       "</table>"
      ],
      "text/plain": [
       "[(0, 'FirstName', 'Varchar (50)', 1, None, 0),\n",
       " (1, 'LastName', 'varchar (50)', 1, None, 0),\n",
       " (2, 'EmployeeID', 'INT', 0, None, 1),\n",
       " (3, 'Scores', 'INT', 0, None, 0)]"
      ]
     },
     "execution_count": 7,
     "metadata": {},
     "output_type": "execute_result"
    }
   ],
   "source": [
    "%sql PRAGMA table_info ('ClassRoaster');"
   ]
  },
  {
   "cell_type": "code",
   "execution_count": 8,
   "metadata": {},
   "outputs": [
    {
     "name": "stdout",
     "output_type": "stream",
     "text": [
      " * sqlite:///sample-database.db\n",
      "(sqlite3.OperationalError) duplicate column name: Scores\n",
      "[SQL: ALTER TABLE ClassRoaster\n",
      "ADD Scores INT;]\n",
      "(Background on this error at: https://sqlalche.me/e/20/e3q8)\n"
     ]
    }
   ],
   "source": [
    "%%sql\n",
    "ALTER TABLE ClassRoaster\n",
    "ADD Scores INT;"
   ]
  },
  {
   "cell_type": "code",
   "execution_count": 9,
   "metadata": {},
   "outputs": [
    {
     "name": "stdout",
     "output_type": "stream",
     "text": [
      " * sqlite:///sample-database.db\n",
      "Done.\n"
     ]
    },
    {
     "data": {
      "text/html": [
       "<table>\n",
       "    <thead>\n",
       "        <tr>\n",
       "            <th>cid</th>\n",
       "            <th>name</th>\n",
       "            <th>type</th>\n",
       "            <th>notnull</th>\n",
       "            <th>dflt_value</th>\n",
       "            <th>pk</th>\n",
       "        </tr>\n",
       "    </thead>\n",
       "    <tbody>\n",
       "        <tr>\n",
       "            <td>0</td>\n",
       "            <td>FirstName</td>\n",
       "            <td>Varchar (50)</td>\n",
       "            <td>1</td>\n",
       "            <td>None</td>\n",
       "            <td>0</td>\n",
       "        </tr>\n",
       "        <tr>\n",
       "            <td>1</td>\n",
       "            <td>LastName</td>\n",
       "            <td>varchar (50)</td>\n",
       "            <td>1</td>\n",
       "            <td>None</td>\n",
       "            <td>0</td>\n",
       "        </tr>\n",
       "        <tr>\n",
       "            <td>2</td>\n",
       "            <td>EmployeeID</td>\n",
       "            <td>INT</td>\n",
       "            <td>0</td>\n",
       "            <td>None</td>\n",
       "            <td>1</td>\n",
       "        </tr>\n",
       "        <tr>\n",
       "            <td>3</td>\n",
       "            <td>Scores</td>\n",
       "            <td>INT</td>\n",
       "            <td>0</td>\n",
       "            <td>None</td>\n",
       "            <td>0</td>\n",
       "        </tr>\n",
       "    </tbody>\n",
       "</table>"
      ],
      "text/plain": [
       "[(0, 'FirstName', 'Varchar (50)', 1, None, 0),\n",
       " (1, 'LastName', 'varchar (50)', 1, None, 0),\n",
       " (2, 'EmployeeID', 'INT', 0, None, 1),\n",
       " (3, 'Scores', 'INT', 0, None, 0)]"
      ]
     },
     "execution_count": 9,
     "metadata": {},
     "output_type": "execute_result"
    }
   ],
   "source": [
    "%sql PRAGMA table_info('ClassRoaster');"
   ]
  },
  {
   "cell_type": "code",
   "execution_count": 10,
   "metadata": {},
   "outputs": [
    {
     "name": "stdout",
     "output_type": "stream",
     "text": [
      " * sqlite:///sample-database.db\n",
      "1 rows affected.\n"
     ]
    },
    {
     "data": {
      "text/plain": [
       "[]"
      ]
     },
     "execution_count": 10,
     "metadata": {},
     "output_type": "execute_result"
    }
   ],
   "source": [
    "%%sql\n",
    "INSERT INTO ClassRoaster (Firstname, LastName, EmployeeID, Scores)\n",
    "VALUES ('Mike', 'Obi', 1001, 45);"
   ]
  },
  {
   "cell_type": "code",
   "execution_count": 11,
   "metadata": {},
   "outputs": [
    {
     "name": "stdout",
     "output_type": "stream",
     "text": [
      " * sqlite:///sample-database.db\n",
      "(sqlite3.IntegrityError) UNIQUE constraint failed: CLassRoaster.EmployeeID\n",
      "[SQL: INSERT INTO ClassRoaster (Firstname, LastName, EmployeeID, Scores)\n",
      "VALUES ('John', 'Obi', 1002, 50);]\n",
      "(Background on this error at: https://sqlalche.me/e/20/gkpj)\n"
     ]
    }
   ],
   "source": [
    "%%sql\n",
    "INSERT INTO ClassRoaster (Firstname, LastName, EmployeeID, Scores)\n",
    "VALUES ('John', 'Obi', 1002, 50);\n",
    "\n"
   ]
  },
  {
   "cell_type": "code",
   "execution_count": 12,
   "metadata": {},
   "outputs": [
    {
     "name": "stdout",
     "output_type": "stream",
     "text": [
      " * sqlite:///sample-database.db\n",
      "(sqlite3.IntegrityError) UNIQUE constraint failed: CLassRoaster.EmployeeID\n",
      "[SQL: INSERT INTO ClassRoaster (Firstname, LastName, EmployeeID, Scores)\n",
      "VALUES ('Kate', 'Obi', 1003, 51);]\n",
      "(Background on this error at: https://sqlalche.me/e/20/gkpj)\n"
     ]
    }
   ],
   "source": [
    "%%sql\n",
    "INSERT INTO ClassRoaster (Firstname, LastName, EmployeeID, Scores)\n",
    "VALUES ('Kate', 'Obi', 1003, 51);\n",
    "\n",
    "%%sql\n",
    "INSERT INTO ClassRoaster (Firstname, LastName, EmployeeID, Scores)\n",
    "VALUES ('Victoria', 'Obi', 1004, 45);"
   ]
  },
  {
   "cell_type": "code",
   "execution_count": 13,
   "metadata": {},
   "outputs": [
    {
     "name": "stdout",
     "output_type": "stream",
     "text": [
      " * sqlite:///sample-database.db\n",
      "(sqlite3.IntegrityError) UNIQUE constraint failed: CLassRoaster.EmployeeID\n",
      "[SQL: INSERT INTO ClassRoaster (Firstname, LastName, EmployeeID, Scores)\n",
      "VALUES ('Victoria', 'Obi', 1004, 45);]\n",
      "(Background on this error at: https://sqlalche.me/e/20/gkpj)\n"
     ]
    }
   ],
   "source": [
    "%%sql\n",
    "INSERT INTO ClassRoaster (Firstname, LastName, EmployeeID, Scores)\n",
    "VALUES ('Victoria', 'Obi', 1004, 45);"
   ]
  },
  {
   "cell_type": "code",
   "execution_count": 14,
   "metadata": {},
   "outputs": [
    {
     "name": "stdout",
     "output_type": "stream",
     "text": [
      " * sqlite:///sample-database.db\n",
      "Done.\n"
     ]
    },
    {
     "data": {
      "text/html": [
       "<table>\n",
       "    <thead>\n",
       "        <tr>\n",
       "            <th>FirstName</th>\n",
       "            <th>LastName</th>\n",
       "            <th>EmployeeID</th>\n",
       "            <th>Scores</th>\n",
       "        </tr>\n",
       "    </thead>\n",
       "    <tbody>\n",
       "        <tr>\n",
       "            <td>John</td>\n",
       "            <td>Obi</td>\n",
       "            <td>1002</td>\n",
       "            <td>50</td>\n",
       "        </tr>\n",
       "        <tr>\n",
       "            <td>Kate</td>\n",
       "            <td>Obi</td>\n",
       "            <td>1003</td>\n",
       "            <td>51</td>\n",
       "        </tr>\n",
       "        <tr>\n",
       "            <td>Victoria</td>\n",
       "            <td>Obi</td>\n",
       "            <td>1004</td>\n",
       "            <td>45</td>\n",
       "        </tr>\n",
       "        <tr>\n",
       "            <td>Amina</td>\n",
       "            <td>Obi</td>\n",
       "            <td>1005</td>\n",
       "            <td>51</td>\n",
       "        </tr>\n",
       "        <tr>\n",
       "            <td>Nkiru</td>\n",
       "            <td>Obi</td>\n",
       "            <td>1006</td>\n",
       "            <td>70</td>\n",
       "        </tr>\n",
       "        <tr>\n",
       "            <td>Amina</td>\n",
       "            <td>Obi</td>\n",
       "            <td>1008</td>\n",
       "            <td>51</td>\n",
       "        </tr>\n",
       "        <tr>\n",
       "            <td>Amina</td>\n",
       "            <td>Obi</td>\n",
       "            <td>1009</td>\n",
       "            <td>51</td>\n",
       "        </tr>\n",
       "        <tr>\n",
       "            <td>Mike</td>\n",
       "            <td>Obi</td>\n",
       "            <td>1001</td>\n",
       "            <td>45</td>\n",
       "        </tr>\n",
       "    </tbody>\n",
       "</table>"
      ],
      "text/plain": [
       "[('John', 'Obi', 1002, 50),\n",
       " ('Kate', 'Obi', 1003, 51),\n",
       " ('Victoria', 'Obi', 1004, 45),\n",
       " ('Amina', 'Obi', 1005, 51),\n",
       " ('Nkiru', 'Obi', 1006, 70),\n",
       " ('Amina', 'Obi', 1008, 51),\n",
       " ('Amina', 'Obi', 1009, 51),\n",
       " ('Mike', 'Obi', 1001, 45)]"
      ]
     },
     "execution_count": 14,
     "metadata": {},
     "output_type": "execute_result"
    }
   ],
   "source": [
    "%sql SELECT * FROM ClassRoaster;"
   ]
  },
  {
   "cell_type": "code",
   "execution_count": 15,
   "metadata": {},
   "outputs": [
    {
     "name": "stdout",
     "output_type": "stream",
     "text": [
      " * sqlite:///sample-database.db\n",
      "Done.\n"
     ]
    },
    {
     "data": {
      "text/html": [
       "<table>\n",
       "    <thead>\n",
       "        <tr>\n",
       "            <th>FirstName</th>\n",
       "            <th>LastName</th>\n",
       "            <th>EmployeeID</th>\n",
       "            <th>Scores</th>\n",
       "        </tr>\n",
       "    </thead>\n",
       "    <tbody>\n",
       "        <tr>\n",
       "            <td>John</td>\n",
       "            <td>Obi</td>\n",
       "            <td>1002</td>\n",
       "            <td>50</td>\n",
       "        </tr>\n",
       "        <tr>\n",
       "            <td>Kate</td>\n",
       "            <td>Obi</td>\n",
       "            <td>1003</td>\n",
       "            <td>51</td>\n",
       "        </tr>\n",
       "        <tr>\n",
       "            <td>Victoria</td>\n",
       "            <td>Obi</td>\n",
       "            <td>1004</td>\n",
       "            <td>45</td>\n",
       "        </tr>\n",
       "        <tr>\n",
       "            <td>Amina</td>\n",
       "            <td>Obi</td>\n",
       "            <td>1005</td>\n",
       "            <td>51</td>\n",
       "        </tr>\n",
       "        <tr>\n",
       "            <td>Nkiru</td>\n",
       "            <td>Obi</td>\n",
       "            <td>1006</td>\n",
       "            <td>70</td>\n",
       "        </tr>\n",
       "        <tr>\n",
       "            <td>Amina</td>\n",
       "            <td>Obi</td>\n",
       "            <td>1008</td>\n",
       "            <td>51</td>\n",
       "        </tr>\n",
       "        <tr>\n",
       "            <td>Amina</td>\n",
       "            <td>Obi</td>\n",
       "            <td>1009</td>\n",
       "            <td>51</td>\n",
       "        </tr>\n",
       "        <tr>\n",
       "            <td>Mike</td>\n",
       "            <td>Obi</td>\n",
       "            <td>1001</td>\n",
       "            <td>45</td>\n",
       "        </tr>\n",
       "    </tbody>\n",
       "</table>"
      ],
      "text/plain": [
       "[('John', 'Obi', 1002, 50),\n",
       " ('Kate', 'Obi', 1003, 51),\n",
       " ('Victoria', 'Obi', 1004, 45),\n",
       " ('Amina', 'Obi', 1005, 51),\n",
       " ('Nkiru', 'Obi', 1006, 70),\n",
       " ('Amina', 'Obi', 1008, 51),\n",
       " ('Amina', 'Obi', 1009, 51),\n",
       " ('Mike', 'Obi', 1001, 45)]"
      ]
     },
     "execution_count": 15,
     "metadata": {},
     "output_type": "execute_result"
    }
   ],
   "source": [
    "%sql SELECT * FROM ClassRoaster;"
   ]
  },
  {
   "cell_type": "code",
   "execution_count": 16,
   "metadata": {},
   "outputs": [
    {
     "name": "stdout",
     "output_type": "stream",
     "text": [
      " * sqlite:///sample-database.db\n",
      "1 rows affected.\n"
     ]
    },
    {
     "data": {
      "text/plain": [
       "[]"
      ]
     },
     "execution_count": 16,
     "metadata": {},
     "output_type": "execute_result"
    }
   ],
   "source": [
    "%%sql UPDATE ClassRoaster\n",
    "SET Scores =70 WHERE EmployeeID =1006;"
   ]
  },
  {
   "cell_type": "code",
   "execution_count": 17,
   "metadata": {},
   "outputs": [
    {
     "name": "stdout",
     "output_type": "stream",
     "text": [
      " * sqlite:///sample-database.db\n",
      "Done.\n"
     ]
    },
    {
     "data": {
      "text/html": [
       "<table>\n",
       "    <thead>\n",
       "        <tr>\n",
       "            <th>FirstName</th>\n",
       "            <th>LastName</th>\n",
       "            <th>EmployeeID</th>\n",
       "            <th>Scores</th>\n",
       "        </tr>\n",
       "    </thead>\n",
       "    <tbody>\n",
       "        <tr>\n",
       "            <td>John</td>\n",
       "            <td>Obi</td>\n",
       "            <td>1002</td>\n",
       "            <td>50</td>\n",
       "        </tr>\n",
       "        <tr>\n",
       "            <td>Kate</td>\n",
       "            <td>Obi</td>\n",
       "            <td>1003</td>\n",
       "            <td>51</td>\n",
       "        </tr>\n",
       "        <tr>\n",
       "            <td>Victoria</td>\n",
       "            <td>Obi</td>\n",
       "            <td>1004</td>\n",
       "            <td>45</td>\n",
       "        </tr>\n",
       "        <tr>\n",
       "            <td>Amina</td>\n",
       "            <td>Obi</td>\n",
       "            <td>1005</td>\n",
       "            <td>51</td>\n",
       "        </tr>\n",
       "        <tr>\n",
       "            <td>Nkiru</td>\n",
       "            <td>Obi</td>\n",
       "            <td>1006</td>\n",
       "            <td>70</td>\n",
       "        </tr>\n",
       "        <tr>\n",
       "            <td>Amina</td>\n",
       "            <td>Obi</td>\n",
       "            <td>1008</td>\n",
       "            <td>51</td>\n",
       "        </tr>\n",
       "        <tr>\n",
       "            <td>Amina</td>\n",
       "            <td>Obi</td>\n",
       "            <td>1009</td>\n",
       "            <td>51</td>\n",
       "        </tr>\n",
       "        <tr>\n",
       "            <td>Mike</td>\n",
       "            <td>Obi</td>\n",
       "            <td>1001</td>\n",
       "            <td>45</td>\n",
       "        </tr>\n",
       "    </tbody>\n",
       "</table>"
      ],
      "text/plain": [
       "[('John', 'Obi', 1002, 50),\n",
       " ('Kate', 'Obi', 1003, 51),\n",
       " ('Victoria', 'Obi', 1004, 45),\n",
       " ('Amina', 'Obi', 1005, 51),\n",
       " ('Nkiru', 'Obi', 1006, 70),\n",
       " ('Amina', 'Obi', 1008, 51),\n",
       " ('Amina', 'Obi', 1009, 51),\n",
       " ('Mike', 'Obi', 1001, 45)]"
      ]
     },
     "execution_count": 17,
     "metadata": {},
     "output_type": "execute_result"
    }
   ],
   "source": [
    " %sql SELECT * FROM ClassRoaster;"
   ]
  },
  {
   "cell_type": "code",
   "execution_count": 18,
   "metadata": {},
   "outputs": [
    {
     "name": "stdout",
     "output_type": "stream",
     "text": [
      " * sqlite:///sample-database.db\n",
      "1 rows affected.\n"
     ]
    },
    {
     "data": {
      "text/plain": [
       "[]"
      ]
     },
     "execution_count": 18,
     "metadata": {},
     "output_type": "execute_result"
    }
   ],
   "source": [
    "%%sql DELETE FROM ClassRoaster\n",
    "WHERE EmployeeID = 1001;\n"
   ]
  },
  {
   "cell_type": "code",
   "execution_count": 19,
   "metadata": {},
   "outputs": [
    {
     "name": "stdout",
     "output_type": "stream",
     "text": [
      " * sqlite:///sample-database.db\n",
      "Done.\n"
     ]
    },
    {
     "data": {
      "text/html": [
       "<table>\n",
       "    <thead>\n",
       "        <tr>\n",
       "            <th>FirstName</th>\n",
       "            <th>LastName</th>\n",
       "            <th>EmployeeID</th>\n",
       "            <th>Scores</th>\n",
       "        </tr>\n",
       "    </thead>\n",
       "    <tbody>\n",
       "        <tr>\n",
       "            <td>John</td>\n",
       "            <td>Obi</td>\n",
       "            <td>1002</td>\n",
       "            <td>50</td>\n",
       "        </tr>\n",
       "        <tr>\n",
       "            <td>Kate</td>\n",
       "            <td>Obi</td>\n",
       "            <td>1003</td>\n",
       "            <td>51</td>\n",
       "        </tr>\n",
       "        <tr>\n",
       "            <td>Victoria</td>\n",
       "            <td>Obi</td>\n",
       "            <td>1004</td>\n",
       "            <td>45</td>\n",
       "        </tr>\n",
       "        <tr>\n",
       "            <td>Amina</td>\n",
       "            <td>Obi</td>\n",
       "            <td>1005</td>\n",
       "            <td>51</td>\n",
       "        </tr>\n",
       "        <tr>\n",
       "            <td>Nkiru</td>\n",
       "            <td>Obi</td>\n",
       "            <td>1006</td>\n",
       "            <td>70</td>\n",
       "        </tr>\n",
       "        <tr>\n",
       "            <td>Amina</td>\n",
       "            <td>Obi</td>\n",
       "            <td>1008</td>\n",
       "            <td>51</td>\n",
       "        </tr>\n",
       "        <tr>\n",
       "            <td>Amina</td>\n",
       "            <td>Obi</td>\n",
       "            <td>1009</td>\n",
       "            <td>51</td>\n",
       "        </tr>\n",
       "    </tbody>\n",
       "</table>"
      ],
      "text/plain": [
       "[('John', 'Obi', 1002, 50),\n",
       " ('Kate', 'Obi', 1003, 51),\n",
       " ('Victoria', 'Obi', 1004, 45),\n",
       " ('Amina', 'Obi', 1005, 51),\n",
       " ('Nkiru', 'Obi', 1006, 70),\n",
       " ('Amina', 'Obi', 1008, 51),\n",
       " ('Amina', 'Obi', 1009, 51)]"
      ]
     },
     "execution_count": 19,
     "metadata": {},
     "output_type": "execute_result"
    }
   ],
   "source": [
    " %sql SELECT * FROM ClassRoaster;"
   ]
  },
  {
   "cell_type": "code",
   "execution_count": 20,
   "metadata": {},
   "outputs": [],
   "source": [
    "# To delete table\n",
    "# %sql DROP ClassRoaster;"
   ]
  },
  {
   "cell_type": "code",
   "execution_count": 21,
   "metadata": {},
   "outputs": [
    {
     "name": "stdout",
     "output_type": "stream",
     "text": [
      " * sqlite:///sample-database.db\n",
      "Done.\n"
     ]
    },
    {
     "data": {
      "text/html": [
       "<table>\n",
       "    <thead>\n",
       "        <tr>\n",
       "            <th>name</th>\n",
       "        </tr>\n",
       "    </thead>\n",
       "    <tbody>\n",
       "        <tr>\n",
       "            <td>Employee</td>\n",
       "        </tr>\n",
       "        <tr>\n",
       "            <td>CLassRoaster</td>\n",
       "        </tr>\n",
       "    </tbody>\n",
       "</table>"
      ],
      "text/plain": [
       "[('Employee',), ('CLassRoaster',)]"
      ]
     },
     "execution_count": 21,
     "metadata": {},
     "output_type": "execute_result"
    }
   ],
   "source": [
    "# To check for tables that exist in the database\n",
    "%sql SELECT name FROM sqlite_master WHERE type='table';"
   ]
  },
  {
   "cell_type": "markdown",
   "metadata": {},
   "source": [
    "# SQL METHODS\n"
   ]
  },
  {
   "cell_type": "code",
   "execution_count": 22,
   "metadata": {},
   "outputs": [
    {
     "name": "stdout",
     "output_type": "stream",
     "text": [
      " * sqlite:///sample-database.db\n",
      "Done.\n"
     ]
    },
    {
     "data": {
      "text/html": [
       "<table>\n",
       "    <thead>\n",
       "        <tr>\n",
       "            <th>FirstName</th>\n",
       "            <th>LastName</th>\n",
       "            <th>EmployeeID</th>\n",
       "            <th>Scores</th>\n",
       "        </tr>\n",
       "    </thead>\n",
       "    <tbody>\n",
       "        <tr>\n",
       "            <td>John</td>\n",
       "            <td>Obi</td>\n",
       "            <td>1002</td>\n",
       "            <td>50</td>\n",
       "        </tr>\n",
       "        <tr>\n",
       "            <td>Kate</td>\n",
       "            <td>Obi</td>\n",
       "            <td>1003</td>\n",
       "            <td>51</td>\n",
       "        </tr>\n",
       "        <tr>\n",
       "            <td>Victoria</td>\n",
       "            <td>Obi</td>\n",
       "            <td>1004</td>\n",
       "            <td>45</td>\n",
       "        </tr>\n",
       "        <tr>\n",
       "            <td>Amina</td>\n",
       "            <td>Obi</td>\n",
       "            <td>1005</td>\n",
       "            <td>51</td>\n",
       "        </tr>\n",
       "        <tr>\n",
       "            <td>Nkiru</td>\n",
       "            <td>Obi</td>\n",
       "            <td>1006</td>\n",
       "            <td>70</td>\n",
       "        </tr>\n",
       "        <tr>\n",
       "            <td>Amina</td>\n",
       "            <td>Obi</td>\n",
       "            <td>1008</td>\n",
       "            <td>51</td>\n",
       "        </tr>\n",
       "        <tr>\n",
       "            <td>Amina</td>\n",
       "            <td>Obi</td>\n",
       "            <td>1009</td>\n",
       "            <td>51</td>\n",
       "        </tr>\n",
       "    </tbody>\n",
       "</table>"
      ],
      "text/plain": [
       "[('John', 'Obi', 1002, 50),\n",
       " ('Kate', 'Obi', 1003, 51),\n",
       " ('Victoria', 'Obi', 1004, 45),\n",
       " ('Amina', 'Obi', 1005, 51),\n",
       " ('Nkiru', 'Obi', 1006, 70),\n",
       " ('Amina', 'Obi', 1008, 51),\n",
       " ('Amina', 'Obi', 1009, 51)]"
      ]
     },
     "execution_count": 22,
     "metadata": {},
     "output_type": "execute_result"
    }
   ],
   "source": [
    " %sql SELECT * FROM ClassRoaster;"
   ]
  },
  {
   "cell_type": "code",
   "execution_count": 23,
   "metadata": {},
   "outputs": [
    {
     "name": "stdout",
     "output_type": "stream",
     "text": [
      " * sqlite:///sample-database.db\n",
      "Done.\n"
     ]
    },
    {
     "data": {
      "text/html": [
       "<table>\n",
       "    <thead>\n",
       "        <tr>\n",
       "            <th>FirstName</th>\n",
       "            <th>LastName</th>\n",
       "        </tr>\n",
       "    </thead>\n",
       "    <tbody>\n",
       "        <tr>\n",
       "            <td>John</td>\n",
       "            <td>Obi</td>\n",
       "        </tr>\n",
       "        <tr>\n",
       "            <td>Kate</td>\n",
       "            <td>Obi</td>\n",
       "        </tr>\n",
       "        <tr>\n",
       "            <td>Victoria</td>\n",
       "            <td>Obi</td>\n",
       "        </tr>\n",
       "        <tr>\n",
       "            <td>Amina</td>\n",
       "            <td>Obi</td>\n",
       "        </tr>\n",
       "        <tr>\n",
       "            <td>Nkiru</td>\n",
       "            <td>Obi</td>\n",
       "        </tr>\n",
       "    </tbody>\n",
       "</table>"
      ],
      "text/plain": [
       "[('John', 'Obi'),\n",
       " ('Kate', 'Obi'),\n",
       " ('Victoria', 'Obi'),\n",
       " ('Amina', 'Obi'),\n",
       " ('Nkiru', 'Obi')]"
      ]
     },
     "execution_count": 23,
     "metadata": {},
     "output_type": "execute_result"
    }
   ],
   "source": [
    "# DISTINCT FUNCTION\n",
    "%sql SELECT DISTINCT FirstName,LastName FROM ClassRoaster;\n"
   ]
  },
  {
   "cell_type": "code",
   "execution_count": 24,
   "metadata": {},
   "outputs": [
    {
     "name": "stdout",
     "output_type": "stream",
     "text": [
      " * sqlite:///sample-database.db\n",
      "(sqlite3.IntegrityError) UNIQUE constraint failed: CLassRoaster.EmployeeID\n",
      "[SQL: INSERT INTO ClassRoaster (FirstName, LastName, EmployeeID, Scores)\n",
      "VALUES ('Amina', 'Obi', 1008, 51);]\n",
      "(Background on this error at: https://sqlalche.me/e/20/gkpj)\n"
     ]
    }
   ],
   "source": [
    "%%sql\n",
    "INSERT INTO ClassRoaster (FirstName, LastName, EmployeeID, Scores)\n",
    "VALUES ('Amina', 'Obi', 1008, 51);\n",
    "       "
   ]
  },
  {
   "cell_type": "code",
   "execution_count": 25,
   "metadata": {},
   "outputs": [
    {
     "name": "stdout",
     "output_type": "stream",
     "text": [
      " * sqlite:///sample-database.db\n",
      "Done.\n"
     ]
    },
    {
     "data": {
      "text/html": [
       "<table>\n",
       "    <thead>\n",
       "        <tr>\n",
       "            <th>FirstName</th>\n",
       "            <th>LastName</th>\n",
       "            <th>EmployeeID</th>\n",
       "            <th>Scores</th>\n",
       "        </tr>\n",
       "    </thead>\n",
       "    <tbody>\n",
       "        <tr>\n",
       "            <td>John</td>\n",
       "            <td>Obi</td>\n",
       "            <td>1002</td>\n",
       "            <td>50</td>\n",
       "        </tr>\n",
       "        <tr>\n",
       "            <td>Kate</td>\n",
       "            <td>Obi</td>\n",
       "            <td>1003</td>\n",
       "            <td>51</td>\n",
       "        </tr>\n",
       "        <tr>\n",
       "            <td>Victoria</td>\n",
       "            <td>Obi</td>\n",
       "            <td>1004</td>\n",
       "            <td>45</td>\n",
       "        </tr>\n",
       "        <tr>\n",
       "            <td>Amina</td>\n",
       "            <td>Obi</td>\n",
       "            <td>1005</td>\n",
       "            <td>51</td>\n",
       "        </tr>\n",
       "        <tr>\n",
       "            <td>Nkiru</td>\n",
       "            <td>Obi</td>\n",
       "            <td>1006</td>\n",
       "            <td>70</td>\n",
       "        </tr>\n",
       "        <tr>\n",
       "            <td>Amina</td>\n",
       "            <td>Obi</td>\n",
       "            <td>1008</td>\n",
       "            <td>51</td>\n",
       "        </tr>\n",
       "        <tr>\n",
       "            <td>Amina</td>\n",
       "            <td>Obi</td>\n",
       "            <td>1009</td>\n",
       "            <td>51</td>\n",
       "        </tr>\n",
       "    </tbody>\n",
       "</table>"
      ],
      "text/plain": [
       "[('John', 'Obi', 1002, 50),\n",
       " ('Kate', 'Obi', 1003, 51),\n",
       " ('Victoria', 'Obi', 1004, 45),\n",
       " ('Amina', 'Obi', 1005, 51),\n",
       " ('Nkiru', 'Obi', 1006, 70),\n",
       " ('Amina', 'Obi', 1008, 51),\n",
       " ('Amina', 'Obi', 1009, 51)]"
      ]
     },
     "execution_count": 25,
     "metadata": {},
     "output_type": "execute_result"
    }
   ],
   "source": [
    "%sql SELECT * FROM ClassRoaster;"
   ]
  },
  {
   "cell_type": "code",
   "execution_count": 26,
   "metadata": {},
   "outputs": [
    {
     "name": "stdout",
     "output_type": "stream",
     "text": [
      " * sqlite:///sample-database.db\n",
      "(sqlite3.IntegrityError) UNIQUE constraint failed: CLassRoaster.EmployeeID\n",
      "[SQL: INSERT INTO ClassRoaster (FirstName, LastName, EmployeeID, Scores)\n",
      "VALUES ('Amina', 'Obi', 1008, 51),\n",
      "        ('Amina', 'Obi', 1009, 51);]\n",
      "(Background on this error at: https://sqlalche.me/e/20/gkpj)\n"
     ]
    }
   ],
   "source": [
    "%%sql\n",
    "INSERT INTO ClassRoaster (FirstName, LastName, EmployeeID, Scores)\n",
    "VALUES ('Amina', 'Obi', 1008, 51),\n",
    "        ('Amina', 'Obi', 1009, 51);\n",
    "       "
   ]
  },
  {
   "cell_type": "code",
   "execution_count": 27,
   "metadata": {},
   "outputs": [
    {
     "name": "stdout",
     "output_type": "stream",
     "text": [
      " * sqlite:///sample-database.db\n",
      "Done.\n"
     ]
    },
    {
     "data": {
      "text/html": [
       "<table>\n",
       "    <thead>\n",
       "        <tr>\n",
       "            <th>FirstName</th>\n",
       "            <th>LastName</th>\n",
       "            <th>EmployeeID</th>\n",
       "            <th>Scores</th>\n",
       "        </tr>\n",
       "    </thead>\n",
       "    <tbody>\n",
       "        <tr>\n",
       "            <td>John</td>\n",
       "            <td>Obi</td>\n",
       "            <td>1002</td>\n",
       "            <td>50</td>\n",
       "        </tr>\n",
       "        <tr>\n",
       "            <td>Kate</td>\n",
       "            <td>Obi</td>\n",
       "            <td>1003</td>\n",
       "            <td>51</td>\n",
       "        </tr>\n",
       "        <tr>\n",
       "            <td>Victoria</td>\n",
       "            <td>Obi</td>\n",
       "            <td>1004</td>\n",
       "            <td>45</td>\n",
       "        </tr>\n",
       "        <tr>\n",
       "            <td>Amina</td>\n",
       "            <td>Obi</td>\n",
       "            <td>1005</td>\n",
       "            <td>51</td>\n",
       "        </tr>\n",
       "        <tr>\n",
       "            <td>Nkiru</td>\n",
       "            <td>Obi</td>\n",
       "            <td>1006</td>\n",
       "            <td>70</td>\n",
       "        </tr>\n",
       "        <tr>\n",
       "            <td>Amina</td>\n",
       "            <td>Obi</td>\n",
       "            <td>1008</td>\n",
       "            <td>51</td>\n",
       "        </tr>\n",
       "        <tr>\n",
       "            <td>Amina</td>\n",
       "            <td>Obi</td>\n",
       "            <td>1009</td>\n",
       "            <td>51</td>\n",
       "        </tr>\n",
       "    </tbody>\n",
       "</table>"
      ],
      "text/plain": [
       "[('John', 'Obi', 1002, 50),\n",
       " ('Kate', 'Obi', 1003, 51),\n",
       " ('Victoria', 'Obi', 1004, 45),\n",
       " ('Amina', 'Obi', 1005, 51),\n",
       " ('Nkiru', 'Obi', 1006, 70),\n",
       " ('Amina', 'Obi', 1008, 51),\n",
       " ('Amina', 'Obi', 1009, 51)]"
      ]
     },
     "execution_count": 27,
     "metadata": {},
     "output_type": "execute_result"
    }
   ],
   "source": [
    "%sql SELECT * FROM ClassRoaster;"
   ]
  },
  {
   "cell_type": "code",
   "execution_count": 28,
   "metadata": {},
   "outputs": [
    {
     "name": "stdout",
     "output_type": "stream",
     "text": [
      " * sqlite:///sample-database.db\n",
      "Done.\n"
     ]
    },
    {
     "data": {
      "text/html": [
       "<table>\n",
       "    <thead>\n",
       "        <tr>\n",
       "            <th>FirstName</th>\n",
       "            <th>LastName</th>\n",
       "            <th>EmployeeID</th>\n",
       "            <th>Scores</th>\n",
       "        </tr>\n",
       "    </thead>\n",
       "    <tbody>\n",
       "        <tr>\n",
       "            <td>John</td>\n",
       "            <td>Obi</td>\n",
       "            <td>1002</td>\n",
       "            <td>50</td>\n",
       "        </tr>\n",
       "        <tr>\n",
       "            <td>Kate</td>\n",
       "            <td>Obi</td>\n",
       "            <td>1003</td>\n",
       "            <td>51</td>\n",
       "        </tr>\n",
       "        <tr>\n",
       "            <td>Victoria</td>\n",
       "            <td>Obi</td>\n",
       "            <td>1004</td>\n",
       "            <td>45</td>\n",
       "        </tr>\n",
       "        <tr>\n",
       "            <td>Amina</td>\n",
       "            <td>Obi</td>\n",
       "            <td>1005</td>\n",
       "            <td>51</td>\n",
       "        </tr>\n",
       "        <tr>\n",
       "            <td>Nkiru</td>\n",
       "            <td>Obi</td>\n",
       "            <td>1006</td>\n",
       "            <td>70</td>\n",
       "        </tr>\n",
       "    </tbody>\n",
       "</table>"
      ],
      "text/plain": [
       "[('John', 'Obi', 1002, 50),\n",
       " ('Kate', 'Obi', 1003, 51),\n",
       " ('Victoria', 'Obi', 1004, 45),\n",
       " ('Amina', 'Obi', 1005, 51),\n",
       " ('Nkiru', 'Obi', 1006, 70)]"
      ]
     },
     "execution_count": 28,
     "metadata": {},
     "output_type": "execute_result"
    }
   ],
   "source": [
    "# lIMIT\n",
    "%sql SELECT * FROM ClassRoaster LIMIT 5;\n"
   ]
  },
  {
   "cell_type": "code",
   "execution_count": 29,
   "metadata": {},
   "outputs": [
    {
     "name": "stdout",
     "output_type": "stream",
     "text": [
      " * sqlite:///sample-database.db\n",
      "Done.\n"
     ]
    },
    {
     "data": {
      "text/html": [
       "<table>\n",
       "    <thead>\n",
       "        <tr>\n",
       "            <th>COUNT(*)</th>\n",
       "        </tr>\n",
       "    </thead>\n",
       "    <tbody>\n",
       "        <tr>\n",
       "            <td>7</td>\n",
       "        </tr>\n",
       "    </tbody>\n",
       "</table>"
      ],
      "text/plain": [
       "[(7,)]"
      ]
     },
     "execution_count": 29,
     "metadata": {},
     "output_type": "execute_result"
    }
   ],
   "source": [
    "# Count\n",
    "%sql SELECT COUNT(*) FROM ClassRoaster;"
   ]
  },
  {
   "cell_type": "code",
   "execution_count": 30,
   "metadata": {},
   "outputs": [
    {
     "name": "stdout",
     "output_type": "stream",
     "text": [
      " * sqlite:///sample-database.db\n",
      "Done.\n"
     ]
    },
    {
     "data": {
      "text/html": [
       "<table>\n",
       "    <thead>\n",
       "        <tr>\n",
       "            <th>COUNT(Scores)</th>\n",
       "        </tr>\n",
       "    </thead>\n",
       "    <tbody>\n",
       "        <tr>\n",
       "            <td>7</td>\n",
       "        </tr>\n",
       "    </tbody>\n",
       "</table>"
      ],
      "text/plain": [
       "[(7,)]"
      ]
     },
     "execution_count": 30,
     "metadata": {},
     "output_type": "execute_result"
    }
   ],
   "source": [
    "# distinct Count\n",
    "%sql SELECT DISTINCT COUNT(Scores) from ClassRoaster;"
   ]
  },
  {
   "cell_type": "code",
   "execution_count": 31,
   "metadata": {},
   "outputs": [
    {
     "name": "stdout",
     "output_type": "stream",
     "text": [
      " * sqlite:///sample-database.db\n",
      "Done.\n"
     ]
    },
    {
     "data": {
      "text/html": [
       "<table>\n",
       "    <thead>\n",
       "        <tr>\n",
       "            <th>COUNT( DISTINCT EmployeeID)</th>\n",
       "        </tr>\n",
       "    </thead>\n",
       "    <tbody>\n",
       "        <tr>\n",
       "            <td>7</td>\n",
       "        </tr>\n",
       "    </tbody>\n",
       "</table>"
      ],
      "text/plain": [
       "[(7,)]"
      ]
     },
     "execution_count": 31,
     "metadata": {},
     "output_type": "execute_result"
    }
   ],
   "source": [
    "%sql SELECT COUNT( DISTINCT EmployeeID) from ClassRoaster;"
   ]
  },
  {
   "cell_type": "code",
   "execution_count": 32,
   "metadata": {},
   "outputs": [
    {
     "name": "stderr",
     "output_type": "stream",
     "text": [
      "UsageError: Line magic function `%Sql` not found.\n"
     ]
    }
   ],
   "source": [
    "%Sql SELECT* FROM ClassRoaster;"
   ]
  },
  {
   "cell_type": "code",
   "execution_count": null,
   "metadata": {},
   "outputs": [],
   "source": [
    "%sql sqlite:///practice-database.db"
   ]
  },
  {
   "cell_type": "code",
   "execution_count": null,
   "metadata": {},
   "outputs": [
    {
     "name": "stdout",
     "output_type": "stream",
     "text": [
      " * sqlite:///practice-database.db\n",
      "   sqlite:///sample-database.db\n",
      "Done.\n"
     ]
    },
    {
     "data": {
      "text/plain": [
       "[]"
      ]
     },
     "execution_count": 38,
     "metadata": {},
     "output_type": "execute_result"
    }
   ],
   "source": [
    "%%sql\n",
    "CREATE TABLE IF NOT EXISTS student (\n",
    "    firstName Varchar (50) NOT NULL,\n",
    "    lastName varchar (50) NOT NULL,\n",
    "    studentID INT PRIMARY KEY\n",
    ");\n"
   ]
  },
  {
   "cell_type": "code",
   "execution_count": null,
   "metadata": {},
   "outputs": [
    {
     "name": "stdout",
     "output_type": "stream",
     "text": [
      " * sqlite:///practice-database.db\n",
      "   sqlite:///sample-database.db\n",
      "Done.\n"
     ]
    },
    {
     "data": {
      "text/html": [
       "<table>\n",
       "    <thead>\n",
       "        <tr>\n",
       "            <th>name</th>\n",
       "        </tr>\n",
       "    </thead>\n",
       "    <tbody>\n",
       "        <tr>\n",
       "            <td>student</td>\n",
       "        </tr>\n",
       "    </tbody>\n",
       "</table>"
      ],
      "text/plain": [
       "[('student',)]"
      ]
     },
     "execution_count": 42,
     "metadata": {},
     "output_type": "execute_result"
    }
   ],
   "source": [
    "%sql SELECT name FROM sqlite_master WHERE type='table';"
   ]
  },
  {
   "cell_type": "code",
   "execution_count": null,
   "metadata": {},
   "outputs": [
    {
     "name": "stdout",
     "output_type": "stream",
     "text": [
      " * sqlite:///practice-database.db\n",
      "   sqlite:///sample-database.db\n",
      "Done.\n"
     ]
    },
    {
     "data": {
      "text/html": [
       "<table>\n",
       "    <thead>\n",
       "        <tr>\n",
       "            <th>firstName</th>\n",
       "            <th>lastName</th>\n",
       "            <th>studentID</th>\n",
       "        </tr>\n",
       "    </thead>\n",
       "    <tbody>\n",
       "    </tbody>\n",
       "</table>"
      ],
      "text/plain": [
       "[]"
      ]
     },
     "execution_count": 43,
     "metadata": {},
     "output_type": "execute_result"
    }
   ],
   "source": [
    "%sql select * from student;"
   ]
  },
  {
   "cell_type": "code",
   "execution_count": null,
   "metadata": {},
   "outputs": [
    {
     "name": "stdout",
     "output_type": "stream",
     "text": [
      " * sqlite:///practice-database.db\n",
      "   sqlite:///sample-database.db\n",
      "1 rows affected.\n"
     ]
    },
    {
     "data": {
      "text/plain": [
       "[]"
      ]
     },
     "execution_count": 59,
     "metadata": {},
     "output_type": "execute_result"
    }
   ],
   "source": [
    "%%sql insert into student (firstName, lastName, studentID)\n",
    "values ('great', 'Eze', 1001);\n",
    "        "
   ]
  },
  {
   "cell_type": "code",
   "execution_count": null,
   "metadata": {},
   "outputs": [
    {
     "name": "stdout",
     "output_type": "stream",
     "text": [
      " * sqlite:///practice-database.db\n",
      "   sqlite:///sample-database.db\n",
      "Done.\n"
     ]
    },
    {
     "data": {
      "text/html": [
       "<table>\n",
       "    <thead>\n",
       "        <tr>\n",
       "            <th>cid</th>\n",
       "            <th>name</th>\n",
       "            <th>type</th>\n",
       "            <th>notnull</th>\n",
       "            <th>dflt_value</th>\n",
       "            <th>pk</th>\n",
       "        </tr>\n",
       "    </thead>\n",
       "    <tbody>\n",
       "        <tr>\n",
       "            <td>0</td>\n",
       "            <td>firstName</td>\n",
       "            <td>Varchar (50)</td>\n",
       "            <td>1</td>\n",
       "            <td>None</td>\n",
       "            <td>0</td>\n",
       "        </tr>\n",
       "        <tr>\n",
       "            <td>1</td>\n",
       "            <td>lastName</td>\n",
       "            <td>varchar (50)</td>\n",
       "            <td>1</td>\n",
       "            <td>None</td>\n",
       "            <td>0</td>\n",
       "        </tr>\n",
       "        <tr>\n",
       "            <td>2</td>\n",
       "            <td>studentID</td>\n",
       "            <td>INT</td>\n",
       "            <td>0</td>\n",
       "            <td>None</td>\n",
       "            <td>1</td>\n",
       "        </tr>\n",
       "    </tbody>\n",
       "</table>"
      ],
      "text/plain": [
       "[(0, 'firstName', 'Varchar (50)', 1, None, 0),\n",
       " (1, 'lastName', 'varchar (50)', 1, None, 0),\n",
       " (2, 'studentID', 'INT', 0, None, 1)]"
      ]
     },
     "execution_count": 50,
     "metadata": {},
     "output_type": "execute_result"
    }
   ],
   "source": [
    "%sql PRAGMA table_info('student');"
   ]
  },
  {
   "cell_type": "code",
   "execution_count": null,
   "metadata": {},
   "outputs": [
    {
     "name": "stdout",
     "output_type": "stream",
     "text": [
      " * sqlite:///practice-database.db\n",
      "   sqlite:///sample-database.db\n",
      "3 rows affected.\n"
     ]
    },
    {
     "data": {
      "text/plain": [
       "[]"
      ]
     },
     "execution_count": 61,
     "metadata": {},
     "output_type": "execute_result"
    }
   ],
   "source": [
    "%%sql INSERT INTO student \n",
    "(firstName, lastName, studentID) \n",
    "VALUES ('great', 'Eze', 1002),\n",
    "('great', 'Eze', 1003),\n",
    "('great', 'Eze', 1004);\n",
    "        "
   ]
  },
  {
   "cell_type": "code",
   "execution_count": null,
   "metadata": {},
   "outputs": [
    {
     "name": "stdout",
     "output_type": "stream",
     "text": [
      " * sqlite:///practice-database.db\n",
      "   sqlite:///sample-database.db\n",
      "Done.\n"
     ]
    },
    {
     "data": {
      "text/html": [
       "<table>\n",
       "    <thead>\n",
       "        <tr>\n",
       "            <th>firstName</th>\n",
       "            <th>lastName</th>\n",
       "            <th>studentID</th>\n",
       "        </tr>\n",
       "    </thead>\n",
       "    <tbody>\n",
       "        <tr>\n",
       "            <td>great</td>\n",
       "            <td>Eze</td>\n",
       "            <td>1001</td>\n",
       "        </tr>\n",
       "        <tr>\n",
       "            <td>great</td>\n",
       "            <td>Eze</td>\n",
       "            <td>1002</td>\n",
       "        </tr>\n",
       "        <tr>\n",
       "            <td>great</td>\n",
       "            <td>Eze</td>\n",
       "            <td>1003</td>\n",
       "        </tr>\n",
       "        <tr>\n",
       "            <td>great</td>\n",
       "            <td>Eze</td>\n",
       "            <td>1004</td>\n",
       "        </tr>\n",
       "    </tbody>\n",
       "</table>"
      ],
      "text/plain": [
       "[('great', 'Eze', 1001),\n",
       " ('great', 'Eze', 1002),\n",
       " ('great', 'Eze', 1003),\n",
       " ('great', 'Eze', 1004)]"
      ]
     },
     "execution_count": 62,
     "metadata": {},
     "output_type": "execute_result"
    }
   ],
   "source": [
    "%sql select * from student;"
   ]
  },
  {
   "cell_type": "code",
   "execution_count": null,
   "metadata": {},
   "outputs": [
    {
     "name": "stdout",
     "output_type": "stream",
     "text": [
      " * sqlite:///practice-database.db\n",
      "   sqlite:///sample-database.db\n",
      "Done.\n"
     ]
    },
    {
     "data": {
      "text/html": [
       "<table>\n",
       "    <thead>\n",
       "        <tr>\n",
       "            <th>firstName</th>\n",
       "            <th>lastName</th>\n",
       "            <th>studentID</th>\n",
       "        </tr>\n",
       "    </thead>\n",
       "    <tbody>\n",
       "        <tr>\n",
       "            <td>great</td>\n",
       "            <td>Eze</td>\n",
       "            <td>1001</td>\n",
       "        </tr>\n",
       "        <tr>\n",
       "            <td>great</td>\n",
       "            <td>Eze</td>\n",
       "            <td>1002</td>\n",
       "        </tr>\n",
       "        <tr>\n",
       "            <td>great</td>\n",
       "            <td>Eze</td>\n",
       "            <td>1004</td>\n",
       "        </tr>\n",
       "    </tbody>\n",
       "</table>"
      ],
      "text/plain": [
       "[('great', 'Eze', 1001), ('great', 'Eze', 1002), ('great', 'Eze', 1004)]"
      ]
     },
     "execution_count": 63,
     "metadata": {},
     "output_type": "execute_result"
    }
   ],
   "source": [
    "%%sql select * from student\n",
    "where studentID !=1003;"
   ]
  },
  {
   "cell_type": "code",
   "execution_count": null,
   "metadata": {},
   "outputs": [
    {
     "name": "stdout",
     "output_type": "stream",
     "text": [
      " * sqlite:///practice-database.db\n",
      "   sqlite:///sample-database.db\n",
      "Done.\n"
     ]
    },
    {
     "data": {
      "text/html": [
       "<table>\n",
       "    <thead>\n",
       "        <tr>\n",
       "            <th>firstName</th>\n",
       "            <th>lastName</th>\n",
       "            <th>studentID</th>\n",
       "        </tr>\n",
       "    </thead>\n",
       "    <tbody>\n",
       "        <tr>\n",
       "            <td>great</td>\n",
       "            <td>Eze</td>\n",
       "            <td>1002</td>\n",
       "        </tr>\n",
       "        <tr>\n",
       "            <td>great</td>\n",
       "            <td>Eze</td>\n",
       "            <td>1003</td>\n",
       "        </tr>\n",
       "        <tr>\n",
       "            <td>great</td>\n",
       "            <td>Eze</td>\n",
       "            <td>1004</td>\n",
       "        </tr>\n",
       "    </tbody>\n",
       "</table>"
      ],
      "text/plain": [
       "[('great', 'Eze', 1002), ('great', 'Eze', 1003), ('great', 'Eze', 1004)]"
      ]
     },
     "execution_count": 64,
     "metadata": {},
     "output_type": "execute_result"
    }
   ],
   "source": [
    "%%sql select * from student\n",
    "where studentID >1001;"
   ]
  }
 ],
 "metadata": {
  "kernelspec": {
   "display_name": "venv",
   "language": "python",
   "name": "python3"
  },
  "language_info": {
   "codemirror_mode": {
    "name": "ipython",
    "version": 3
   },
   "file_extension": ".py",
   "mimetype": "text/x-python",
   "name": "python",
   "nbconvert_exporter": "python",
   "pygments_lexer": "ipython3",
   "version": "3.12.3"
  }
 },
 "nbformat": 4,
 "nbformat_minor": 2
}
